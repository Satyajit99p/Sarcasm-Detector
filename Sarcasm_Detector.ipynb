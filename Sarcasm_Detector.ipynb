{
  "nbformat": 4,
  "nbformat_minor": 0,
  "metadata": {
    "colab": {
      "name": "Sarcasm Detector.ipynb",
      "provenance": [],
      "collapsed_sections": [],
      "authorship_tag": "ABX9TyMDhBOszc18qZT7bAYZV25v",
      "include_colab_link": true
    },
    "kernelspec": {
      "name": "python3",
      "display_name": "Python 3"
    },
    "language_info": {
      "name": "python"
    }
  },
  "cells": [
    {
      "cell_type": "markdown",
      "metadata": {
        "id": "view-in-github",
        "colab_type": "text"
      },
      "source": [
        "<a href=\"https://colab.research.google.com/github/Satyajit99p/Sarcasm-Detector/blob/main/Sarcasm_Detector.ipynb\" target=\"_parent\"><img src=\"https://colab.research.google.com/assets/colab-badge.svg\" alt=\"Open In Colab\"/></a>"
      ]
    },
    {
      "cell_type": "markdown",
      "metadata": {
        "id": "EPAwoCm98rWm"
      },
      "source": [
        "ORGANISING THE DATA"
      ]
    },
    {
      "cell_type": "code",
      "metadata": {
        "id": "MJK0uhqQ4hgd"
      },
      "source": [
        "import json\n",
        "\n",
        "news=[]\n",
        "for line in open('Sarcasm_Headlines_Dataset.json', 'r'):\n",
        "    news.append(json.loads(line))\n",
        "\n",
        "sentences=[]\n",
        "labels=[]\n",
        "urls=[]\n",
        "for item in news:\n",
        "  sentences.append(item['headline'])\n",
        "  labels.append(item['is_sarcastic'])\n",
        "  urls.append(item['article_link'])"
      ],
      "execution_count": 3,
      "outputs": []
    },
    {
      "cell_type": "code",
      "metadata": {
        "colab": {
          "base_uri": "https://localhost:8080/"
        },
        "id": "jBchxSum7uM9",
        "outputId": "5c1a3581-866f-470f-f5d6-765575589c76"
      },
      "source": [
        "sentences[:5]"
      ],
      "execution_count": 4,
      "outputs": [
        {
          "output_type": "execute_result",
          "data": {
            "text/plain": [
              "[\"former versace store clerk sues over secret 'black code' for minority shoppers\",\n",
              " \"the 'roseanne' revival catches up to our thorny political mood, for better and worse\",\n",
              " \"mom starting to fear son's web series closest thing she will have to grandchild\",\n",
              " 'boehner just wants wife to listen, not come up with alternative debt-reduction ideas',\n",
              " 'j.k. rowling wishes snape happy birthday in the most magical way']"
            ]
          },
          "metadata": {
            "tags": []
          },
          "execution_count": 4
        }
      ]
    },
    {
      "cell_type": "code",
      "metadata": {
        "colab": {
          "base_uri": "https://localhost:8080/"
        },
        "id": "ngnk7ZM_TNnL",
        "outputId": "530ab1df-f5c7-4b88-f8a8-f93471a3e002"
      },
      "source": [
        "print(len(sentences))\n",
        "print(len(labels))"
      ],
      "execution_count": 27,
      "outputs": [
        {
          "output_type": "stream",
          "text": [
            "26709\n",
            "26709\n"
          ],
          "name": "stdout"
        }
      ]
    },
    {
      "cell_type": "code",
      "metadata": {
        "colab": {
          "base_uri": "https://localhost:8080/"
        },
        "id": "Z8ukDGrQ8YjV",
        "outputId": "6241edcf-baa7-4857-9979-63edf3911472"
      },
      "source": [
        "labels[7000]"
      ],
      "execution_count": 28,
      "outputs": [
        {
          "output_type": "execute_result",
          "data": {
            "text/plain": [
              "1"
            ]
          },
          "metadata": {
            "tags": []
          },
          "execution_count": 28
        }
      ]
    },
    {
      "cell_type": "code",
      "metadata": {
        "colab": {
          "base_uri": "https://localhost:8080/"
        },
        "id": "wjL_FMfO8beh",
        "outputId": "202a1a6b-1e82-4018-fe08-1db6752468ee"
      },
      "source": [
        "urls[:5]"
      ],
      "execution_count": 6,
      "outputs": [
        {
          "output_type": "execute_result",
          "data": {
            "text/plain": [
              "['https://www.huffingtonpost.com/entry/versace-black-code_us_5861fbefe4b0de3a08f600d5',\n",
              " 'https://www.huffingtonpost.com/entry/roseanne-revival-review_us_5ab3a497e4b054d118e04365',\n",
              " 'https://local.theonion.com/mom-starting-to-fear-son-s-web-series-closest-thing-she-1819576697',\n",
              " 'https://politics.theonion.com/boehner-just-wants-wife-to-listen-not-come-up-with-alt-1819574302',\n",
              " 'https://www.huffingtonpost.com/entry/jk-rowling-wishes-snape-happy-birthday_us_569117c4e4b0cad15e64fdcb']"
            ]
          },
          "metadata": {
            "tags": []
          },
          "execution_count": 6
        }
      ]
    },
    {
      "cell_type": "code",
      "metadata": {
        "colab": {
          "base_uri": "https://localhost:8080/"
        },
        "id": "kMyWeASl8dJY",
        "outputId": "35a5a121-2ff0-4053-8d3d-4367d9b049c3"
      },
      "source": [
        "from tensorflow.keras.preprocessing.text import Tokenizer\n",
        "from tensorflow.keras.preprocessing.sequence import pad_sequences\n",
        "\n",
        "tokenizer=Tokenizer(oov_token='<OOV>')\n",
        "tokenizer.fit_on_texts(sentences)\n",
        "word_index=tokenizer.word_index\n",
        "\n",
        "sequences = tokenizer.texts_to_sequences(sentences)\n",
        "padded=pad_sequences(sequences,padding='post')\n",
        "print(padded[0])\n",
        "print(padded.shape)"
      ],
      "execution_count": 9,
      "outputs": [
        {
          "output_type": "stream",
          "text": [
            "[  308 15115   679  3337  2298    48   382  2576 15116     6  2577  8434\n",
            "     0     0     0     0     0     0     0     0     0     0     0     0\n",
            "     0     0     0     0     0     0     0     0     0     0     0     0\n",
            "     0     0     0     0]\n",
            "(26709, 40)\n"
          ],
          "name": "stdout"
        }
      ]
    },
    {
      "cell_type": "code",
      "metadata": {
        "colab": {
          "base_uri": "https://localhost:8080/"
        },
        "id": "4agGDBaN9aUK",
        "outputId": "56b55701-c309-4354-ee7d-20df1d214849"
      },
      "source": [
        "print(sentences[0])"
      ],
      "execution_count": 10,
      "outputs": [
        {
          "output_type": "stream",
          "text": [
            "former versace store clerk sues over secret 'black code' for minority shoppers\n"
          ],
          "name": "stdout"
        }
      ]
    },
    {
      "cell_type": "markdown",
      "metadata": {
        "id": "RE49XyEMCT8c"
      },
      "source": [
        "DL MODEL "
      ]
    },
    {
      "cell_type": "code",
      "metadata": {
        "id": "e38OnR_891_2"
      },
      "source": [
        "import tensorflow as tf\n",
        "\n",
        "vocab_size=1000\n",
        "embedding_dim=16\n",
        "trunc_type='post'\n",
        "padding_type='post'\n",
        "oov_tok='<OOV>'\n",
        "training_size=20000\n",
        "max_length=100"
      ],
      "execution_count": 60,
      "outputs": []
    },
    {
      "cell_type": "code",
      "metadata": {
        "id": "z2PeEULPCtSR"
      },
      "source": [
        "training_sentences = sentences[0:training_size]\n",
        "testing_sentences=sentences[training_size:]\n",
        "training_labels=labels[0:training_size]\n",
        "testing_labels=labels[training_size:]"
      ],
      "execution_count": 61,
      "outputs": []
    },
    {
      "cell_type": "code",
      "metadata": {
        "colab": {
          "base_uri": "https://localhost:8080/"
        },
        "id": "X6ElZRw5S8SV",
        "outputId": "1a05e79c-a913-473b-8bfe-8afef0ab5f23"
      },
      "source": [
        "print(len(training_sentences))\n",
        "print(len(training_labels))\n",
        "print(len(testing_labels))\n",
        "print(len(testing_labels))"
      ],
      "execution_count": 62,
      "outputs": [
        {
          "output_type": "stream",
          "text": [
            "20000\n",
            "20000\n",
            "6709\n",
            "6709\n"
          ],
          "name": "stdout"
        }
      ]
    },
    {
      "cell_type": "code",
      "metadata": {
        "id": "tbWGzfcIOiGX"
      },
      "source": [
        "tokenizer = Tokenizer(num_words=vocab_size,oov_token = oov_tok, )\n",
        "tokenizer.fit_on_texts(training_sentences)\n",
        "\n",
        "word_index=tokenizer.word_index\n",
        "\n",
        "training_sequences = tokenizer.texts_to_sequences(training_sentences)\n",
        "training_padde = pad_sequences(training_sequences,maxlen=max_length,padding=padding_type,truncating=trunc_type)\n",
        "\n",
        "testing_sequences = tokenizer.texts_to_sequences(testing_sentences)\n",
        "testing_padde = pad_sequences(testing_sequences,maxlen=max_length,padding=padding_type,truncating=trunc_type)"
      ],
      "execution_count": 63,
      "outputs": []
    },
    {
      "cell_type": "code",
      "metadata": {
        "colab": {
          "base_uri": "https://localhost:8080/"
        },
        "id": "0_ZKKQCHUEaK",
        "outputId": "701a38e9-a8cc-4b60-ae0f-2585d0d873af"
      },
      "source": [
        "print(len(training_labels))\n"
      ],
      "execution_count": 64,
      "outputs": [
        {
          "output_type": "stream",
          "text": [
            "20000\n"
          ],
          "name": "stdout"
        }
      ]
    },
    {
      "cell_type": "code",
      "metadata": {
        "id": "d0E6_NrKQAQM"
      },
      "source": [
        "#code to convert data to work with tensorflow 2.x\n",
        "\n",
        "import numpy as np\n",
        "training_padded=np.array(training_padde)\n",
        "training_labels=np.array(training_labels)\n",
        "testing_padded=np.array(testing_padde)\n",
        "testing_labels=np.array(testing_labels)"
      ],
      "execution_count": 65,
      "outputs": []
    },
    {
      "cell_type": "code",
      "metadata": {
        "colab": {
          "base_uri": "https://localhost:8080/"
        },
        "id": "n59U3UBWUCfO",
        "outputId": "4970ef0e-4240-4c06-e5e3-fe5f3c646c99"
      },
      "source": [
        "print(len(training_labels))\n",
        "print(len(training_padded))"
      ],
      "execution_count": 66,
      "outputs": [
        {
          "output_type": "stream",
          "text": [
            "20000\n",
            "20000\n"
          ],
          "name": "stdout"
        }
      ]
    },
    {
      "cell_type": "code",
      "metadata": {
        "id": "cQy0Mk5UQbWa"
      },
      "source": [
        "# generating sequential model\n",
        "\n",
        "model = tf.keras.Sequential([\n",
        "                             tf.keras.layers.Embedding(vocab_size,embedding_dim,input_length=max_length),\n",
        "                             tf.keras.layers.GlobalAveragePooling1D(),\n",
        "                             tf.keras.layers.Dense(24,activation='relu'),\n",
        "                             tf.keras.layers.Dense(1,activation='sigmoid')\n",
        "])\n",
        "model.compile(loss='binary_crossentropy',optimizer='adam',metrics=['accuracy'])"
      ],
      "execution_count": 67,
      "outputs": []
    },
    {
      "cell_type": "code",
      "metadata": {
        "colab": {
          "base_uri": "https://localhost:8080/"
        },
        "id": "XOcOwBuXQ9-M",
        "outputId": "0ab20643-1035-4356-d887-96db30d2320f"
      },
      "source": [
        "model.summary()"
      ],
      "execution_count": 68,
      "outputs": [
        {
          "output_type": "stream",
          "text": [
            "Model: \"sequential_4\"\n",
            "_________________________________________________________________\n",
            "Layer (type)                 Output Shape              Param #   \n",
            "=================================================================\n",
            "embedding_4 (Embedding)      (None, 100, 16)           16000     \n",
            "_________________________________________________________________\n",
            "global_average_pooling1d_4 ( (None, 16)                0         \n",
            "_________________________________________________________________\n",
            "dense_8 (Dense)              (None, 24)                408       \n",
            "_________________________________________________________________\n",
            "dense_9 (Dense)              (None, 1)                 25        \n",
            "=================================================================\n",
            "Total params: 16,433\n",
            "Trainable params: 16,433\n",
            "Non-trainable params: 0\n",
            "_________________________________________________________________\n"
          ],
          "name": "stdout"
        }
      ]
    },
    {
      "cell_type": "code",
      "metadata": {
        "colab": {
          "base_uri": "https://localhost:8080/"
        },
        "id": "RB40IzAyT3Vj",
        "outputId": "936be167-3d47-4d68-9cd7-a92f16a76f34"
      },
      "source": [
        "print(len(training_labels))\n",
        "print(len(training_padded))"
      ],
      "execution_count": 69,
      "outputs": [
        {
          "output_type": "stream",
          "text": [
            "20000\n",
            "20000\n"
          ],
          "name": "stdout"
        }
      ]
    },
    {
      "cell_type": "code",
      "metadata": {
        "colab": {
          "base_uri": "https://localhost:8080/"
        },
        "id": "vUfXjp2OR9ZL",
        "outputId": "3a6253a9-0f07-4f40-f9c3-39e4a40b217f"
      },
      "source": [
        "#fitting our model\n",
        "\n",
        "num_epochs=30\n",
        "history = model.fit(training_padded,training_labels,epochs=num_epochs,validation_data=(testing_padded, testing_labels), verbose=2)"
      ],
      "execution_count": 70,
      "outputs": [
        {
          "output_type": "stream",
          "text": [
            "Epoch 1/30\n",
            "625/625 - 2s - loss: 0.6663 - accuracy: 0.5914 - val_loss: 0.5903 - val_accuracy: 0.6772\n",
            "Epoch 2/30\n",
            "625/625 - 1s - loss: 0.4796 - accuracy: 0.7814 - val_loss: 0.4343 - val_accuracy: 0.8015\n",
            "Epoch 3/30\n",
            "625/625 - 1s - loss: 0.4029 - accuracy: 0.8156 - val_loss: 0.4122 - val_accuracy: 0.8094\n",
            "Epoch 4/30\n",
            "625/625 - 1s - loss: 0.3803 - accuracy: 0.8271 - val_loss: 0.4124 - val_accuracy: 0.8080\n",
            "Epoch 5/30\n",
            "625/625 - 1s - loss: 0.3691 - accuracy: 0.8327 - val_loss: 0.4071 - val_accuracy: 0.8077\n",
            "Epoch 6/30\n",
            "625/625 - 1s - loss: 0.3637 - accuracy: 0.8347 - val_loss: 0.4045 - val_accuracy: 0.8110\n",
            "Epoch 7/30\n",
            "625/625 - 1s - loss: 0.3593 - accuracy: 0.8363 - val_loss: 0.4087 - val_accuracy: 0.8089\n",
            "Epoch 8/30\n",
            "625/625 - 1s - loss: 0.3563 - accuracy: 0.8372 - val_loss: 0.4031 - val_accuracy: 0.8162\n",
            "Epoch 9/30\n",
            "625/625 - 1s - loss: 0.3558 - accuracy: 0.8392 - val_loss: 0.4030 - val_accuracy: 0.8123\n",
            "Epoch 10/30\n",
            "625/625 - 1s - loss: 0.3529 - accuracy: 0.8383 - val_loss: 0.4335 - val_accuracy: 0.8006\n",
            "Epoch 11/30\n",
            "625/625 - 1s - loss: 0.3522 - accuracy: 0.8386 - val_loss: 0.4178 - val_accuracy: 0.8050\n",
            "Epoch 12/30\n",
            "625/625 - 1s - loss: 0.3514 - accuracy: 0.8406 - val_loss: 0.4058 - val_accuracy: 0.8143\n",
            "Epoch 13/30\n",
            "625/625 - 1s - loss: 0.3538 - accuracy: 0.8380 - val_loss: 0.4060 - val_accuracy: 0.8138\n",
            "Epoch 14/30\n",
            "625/625 - 1s - loss: 0.3506 - accuracy: 0.8389 - val_loss: 0.4113 - val_accuracy: 0.8134\n",
            "Epoch 15/30\n",
            "625/625 - 1s - loss: 0.3493 - accuracy: 0.8404 - val_loss: 0.4135 - val_accuracy: 0.8117\n",
            "Epoch 16/30\n",
            "625/625 - 1s - loss: 0.3488 - accuracy: 0.8406 - val_loss: 0.4111 - val_accuracy: 0.8104\n",
            "Epoch 17/30\n",
            "625/625 - 1s - loss: 0.3496 - accuracy: 0.8423 - val_loss: 0.4089 - val_accuracy: 0.8134\n",
            "Epoch 18/30\n",
            "625/625 - 1s - loss: 0.3500 - accuracy: 0.8408 - val_loss: 0.4094 - val_accuracy: 0.8132\n",
            "Epoch 19/30\n",
            "625/625 - 1s - loss: 0.3484 - accuracy: 0.8403 - val_loss: 0.4226 - val_accuracy: 0.8098\n",
            "Epoch 20/30\n",
            "625/625 - 1s - loss: 0.3485 - accuracy: 0.8409 - val_loss: 0.4300 - val_accuracy: 0.8004\n",
            "Epoch 21/30\n",
            "625/625 - 1s - loss: 0.3467 - accuracy: 0.8432 - val_loss: 0.4141 - val_accuracy: 0.8117\n",
            "Epoch 22/30\n",
            "625/625 - 1s - loss: 0.3483 - accuracy: 0.8413 - val_loss: 0.4425 - val_accuracy: 0.7958\n",
            "Epoch 23/30\n",
            "625/625 - 1s - loss: 0.3486 - accuracy: 0.8414 - val_loss: 0.4207 - val_accuracy: 0.8052\n",
            "Epoch 24/30\n",
            "625/625 - 1s - loss: 0.3484 - accuracy: 0.8415 - val_loss: 0.4117 - val_accuracy: 0.8138\n",
            "Epoch 25/30\n",
            "625/625 - 1s - loss: 0.3485 - accuracy: 0.8415 - val_loss: 0.4116 - val_accuracy: 0.8123\n",
            "Epoch 26/30\n",
            "625/625 - 1s - loss: 0.3473 - accuracy: 0.8410 - val_loss: 0.4172 - val_accuracy: 0.8077\n",
            "Epoch 27/30\n",
            "625/625 - 1s - loss: 0.3469 - accuracy: 0.8432 - val_loss: 0.4125 - val_accuracy: 0.8106\n",
            "Epoch 28/30\n",
            "625/625 - 1s - loss: 0.3474 - accuracy: 0.8425 - val_loss: 0.4153 - val_accuracy: 0.8119\n",
            "Epoch 29/30\n",
            "625/625 - 1s - loss: 0.3467 - accuracy: 0.8429 - val_loss: 0.4185 - val_accuracy: 0.8061\n",
            "Epoch 30/30\n",
            "625/625 - 1s - loss: 0.3472 - accuracy: 0.8411 - val_loss: 0.4141 - val_accuracy: 0.8110\n"
          ],
          "name": "stdout"
        }
      ]
    },
    {
      "cell_type": "code",
      "metadata": {
        "id": "W396LU2rxJ-O"
      },
      "source": [
        "# we can adjust the vocab_size attriubute in order to balance out the validation loss and actual loss.\n",
        "# increasing the vocab size too high will lead to overfitting and high validation loss.\n",
        "# decreasing the vocal_size too low will lead to unerfitting and low accuracy."
      ],
      "execution_count": 71,
      "outputs": []
    },
    {
      "cell_type": "code",
      "metadata": {
        "colab": {
          "base_uri": "https://localhost:8080/",
          "height": 541
        },
        "id": "wukChETUVAJs",
        "outputId": "63620113-ebcb-4b12-8697-252c26e5fe8c"
      },
      "source": [
        "import matplotlib.pyplot as plt\n",
        "\n",
        "\n",
        "def plot_graphs(history, string):\n",
        "  plt.plot(history.history[string])\n",
        "  plt.plot(history.history['val_'+string])\n",
        "  plt.xlabel(\"Epochs\")\n",
        "  plt.ylabel(string)\n",
        "  plt.legend([string, 'val_'+string])\n",
        "  plt.show()\n",
        "  \n",
        "plot_graphs(history, \"accuracy\")\n",
        "plot_graphs(history, \"loss\")"
      ],
      "execution_count": 72,
      "outputs": [
        {
          "output_type": "display_data",
          "data": {
            "image/png": "[encoded data removed]",
            "text/plain": [
              "<Figure size 432x288 with 1 Axes>"
            ]
          },
          "metadata": {
            "tags": [],
            "needs_background": "light"
          }
        },
        {
          "output_type": "display_data",
          "data": {
            "image/png": "[encoded data removed]",
            "text/plain": [
              "<Figure size 432x288 with 1 Axes>"
            ]
          },
          "metadata": {
            "tags": [],
            "needs_background": "light"
          }
        }
      ]
    },
    {
      "cell_type": "code",
      "metadata": {
        "colab": {
          "base_uri": "https://localhost:8080/"
        },
        "id": "9XS7UcRyXDti",
        "outputId": "ababd7bd-dbe6-4312-aec1-64544efc189d"
      },
      "source": [
        "# try our model\n",
        "\n",
        "sentence = [\"granny starting to fear spiders in the garden might be real\", \n",
        "            \"game of thrones season finale showing this sunday night\"]\n",
        "sequences = tokenizer.texts_to_sequences(sentence)\n",
        "padded = pad_sequences(sequences, maxlen=max_length, padding=padding_type, truncating=trunc_type)\n",
        "print(model.predict(padded))"
      ],
      "execution_count": 73,
      "outputs": [
        {
          "output_type": "stream",
          "text": [
            "[[0.34277636]\n",
            " [0.566089  ]]\n"
          ],
          "name": "stdout"
        }
      ]
    },
    {
      "cell_type": "code",
      "metadata": {
        "id": "Whu-x5fJXNaX"
      },
      "source": [
        ""
      ],
      "execution_count": null,
      "outputs": []
    }
  ]
}